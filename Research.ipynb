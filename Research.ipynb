{
  "nbformat": 4,
  "nbformat_minor": 0,
  "metadata": {
    "colab": {
      "provenance": [],
      "authorship_tag": "ABX9TyNSqtde8UDzNgmkTEgJ9QyS",
      "include_colab_link": true
    },
    "kernelspec": {
      "name": "python3",
      "display_name": "Python 3"
    },
    "language_info": {
      "name": "python"
    }
  },
  "cells": [
    {
      "cell_type": "markdown",
      "metadata": {
        "id": "view-in-github",
        "colab_type": "text"
      },
      "source": [
        "<a href=\"https://colab.research.google.com/github/LanceAlcala/CPEN-research/blob/main/Research.ipynb\" target=\"_parent\"><img src=\"https://colab.research.google.com/assets/colab-badge.svg\" alt=\"Open In Colab\"/></a>"
      ]
    },
    {
      "cell_type": "markdown",
      "source": [
        "# Setup"
      ],
      "metadata": {
        "id": "MeZJVjqLGcjD"
      }
    },
    {
      "cell_type": "code",
      "source": [
        "import sys\n",
        "import numpy as np\n",
        "import pandas as pd\n",
        "from sklearn.model_selection import train_test_split, KFold\n",
        "from sklearn.neighbors import KNeighborsClassifier\n",
        "from sklearn.neural_network import MLPClassifier\n",
        "from sklearn.ensemble import VotingClassifier\n",
        "from sklearn.metrics import accuracy_score, precision_score, recall_score, f1_score\n",
        "from enum import auto\n",
        "import io\n",
        "import time\n",
        "from sklearn.cluster import KMeans\n",
        "import matplotlib.pyplot as plt\n",
        "\n",
        "def get_space_consumption(obj):\n",
        "    memory_usage = sys.getsizeof(obj)\n",
        "    frame = sys._getframe()\n",
        "    while frame:\n",
        "        memory_usage += sys.getsizeof(frame.f_locals) + sys.getsizeof(frame.f_globals)\n",
        "        frame = frame.f_back\n",
        "    memory_usage_kb = memory_usage / 1024\n",
        "    return memory_usage_kb"
      ],
      "metadata": {
        "id": "-zrrHdLbAVYQ"
      },
      "execution_count": 552,
      "outputs": []
    },
    {
      "cell_type": "markdown",
      "source": [
        "# Dataset"
      ],
      "metadata": {
        "id": "fAJlJEkaGev5"
      }
    },
    {
      "cell_type": "code",
      "source": [
        "dataset = pd.read_csv(\"/content/dataset.csv\")\n",
        "dataset.head(4500)"
      ],
      "metadata": {
        "id": "-CFTS37uApL_",
        "colab": {
          "base_uri": "https://localhost:8080/",
          "height": 540
        },
        "outputId": "3ca52742-605e-4f76-8062-7c7c0cdd81d0"
      },
      "execution_count": 553,
      "outputs": [
        {
          "output_type": "execute_result",
          "data": {
            "text/plain": [
              "      Marital status  Application mode  Application order  Course  \\\n",
              "0                  1                 8                  5       2   \n",
              "1                  1                 6                  1      11   \n",
              "2                  1                 1                  5       5   \n",
              "3                  1                 8                  2      15   \n",
              "4                  2                12                  1       3   \n",
              "...              ...               ...                ...     ...   \n",
              "4419               1                 1                  6      15   \n",
              "4420               1                 1                  2      15   \n",
              "4421               1                 1                  1      12   \n",
              "4422               1                 1                  1       9   \n",
              "4423               1                 5                  1      15   \n",
              "\n",
              "      Daytime/evening attendance  Previous qualification  Nacionality  \\\n",
              "0                              1                       1            1   \n",
              "1                              1                       1            1   \n",
              "2                              1                       1            1   \n",
              "3                              1                       1            1   \n",
              "4                              0                       1            1   \n",
              "...                          ...                     ...          ...   \n",
              "4419                           1                       1            1   \n",
              "4420                           1                       1           19   \n",
              "4421                           1                       1            1   \n",
              "4422                           1                       1            1   \n",
              "4423                           1                       1            9   \n",
              "\n",
              "      Mother's qualification  Father's qualification  Mother's occupation  \\\n",
              "0                         13                      10                    6   \n",
              "1                          1                       3                    4   \n",
              "2                         22                      27                   10   \n",
              "3                         23                      27                    6   \n",
              "4                         22                      28                   10   \n",
              "...                      ...                     ...                  ...   \n",
              "4419                       1                       1                    6   \n",
              "4420                       1                       1                   10   \n",
              "4421                      22                      27                   10   \n",
              "4422                      22                      27                    8   \n",
              "4423                      23                      27                    6   \n",
              "\n",
              "      ...  Curricular units 2nd sem (credited)  \\\n",
              "0     ...                                    0   \n",
              "1     ...                                    0   \n",
              "2     ...                                    0   \n",
              "3     ...                                    0   \n",
              "4     ...                                    0   \n",
              "...   ...                                  ...   \n",
              "4419  ...                                    0   \n",
              "4420  ...                                    0   \n",
              "4421  ...                                    0   \n",
              "4422  ...                                    0   \n",
              "4423  ...                                    0   \n",
              "\n",
              "      Curricular units 2nd sem (enrolled)  \\\n",
              "0                                       0   \n",
              "1                                       6   \n",
              "2                                       6   \n",
              "3                                       6   \n",
              "4                                       6   \n",
              "...                                   ...   \n",
              "4419                                    6   \n",
              "4420                                    6   \n",
              "4421                                    8   \n",
              "4422                                    5   \n",
              "4423                                    6   \n",
              "\n",
              "      Curricular units 2nd sem (evaluations)  \\\n",
              "0                                          0   \n",
              "1                                          6   \n",
              "2                                          0   \n",
              "3                                         10   \n",
              "4                                          6   \n",
              "...                                      ...   \n",
              "4419                                       8   \n",
              "4420                                       6   \n",
              "4421                                       9   \n",
              "4422                                       6   \n",
              "4423                                       6   \n",
              "\n",
              "      Curricular units 2nd sem (approved)  Curricular units 2nd sem (grade)  \\\n",
              "0                                       0                          0.000000   \n",
              "1                                       6                         13.666667   \n",
              "2                                       0                          0.000000   \n",
              "3                                       5                         12.400000   \n",
              "4                                       6                         13.000000   \n",
              "...                                   ...                               ...   \n",
              "4419                                    5                         12.666667   \n",
              "4420                                    2                         11.000000   \n",
              "4421                                    1                         13.500000   \n",
              "4422                                    5                         12.000000   \n",
              "4423                                    6                         13.000000   \n",
              "\n",
              "      Curricular units 2nd sem (without evaluations)  Unemployment rate  \\\n",
              "0                                                  0               10.8   \n",
              "1                                                  0               13.9   \n",
              "2                                                  0               10.8   \n",
              "3                                                  0                9.4   \n",
              "4                                                  0               13.9   \n",
              "...                                              ...                ...   \n",
              "4419                                               0               15.5   \n",
              "4420                                               0               11.1   \n",
              "4421                                               0               13.9   \n",
              "4422                                               0                9.4   \n",
              "4423                                               0               12.7   \n",
              "\n",
              "      Inflation rate   GDP    Target  \n",
              "0                1.4  1.74   Dropout  \n",
              "1               -0.3  0.79  Graduate  \n",
              "2                1.4  1.74   Dropout  \n",
              "3               -0.8 -3.12  Graduate  \n",
              "4               -0.3  0.79  Graduate  \n",
              "...              ...   ...       ...  \n",
              "4419             2.8 -4.06  Graduate  \n",
              "4420             0.6  2.02   Dropout  \n",
              "4421            -0.3  0.79   Dropout  \n",
              "4422            -0.8 -3.12  Graduate  \n",
              "4423             3.7 -1.70  Graduate  \n",
              "\n",
              "[4424 rows x 35 columns]"
            ],
            "text/html": [
              "\n",
              "  <div id=\"df-2373c514-e27d-449e-9c8a-6a87eddd4256\">\n",
              "    <div class=\"colab-df-container\">\n",
              "      <div>\n",
              "<style scoped>\n",
              "    .dataframe tbody tr th:only-of-type {\n",
              "        vertical-align: middle;\n",
              "    }\n",
              "\n",
              "    .dataframe tbody tr th {\n",
              "        vertical-align: top;\n",
              "    }\n",
              "\n",
              "    .dataframe thead th {\n",
              "        text-align: right;\n",
              "    }\n",
              "</style>\n",
              "<table border=\"1\" class=\"dataframe\">\n",
              "  <thead>\n",
              "    <tr style=\"text-align: right;\">\n",
              "      <th></th>\n",
              "      <th>Marital status</th>\n",
              "      <th>Application mode</th>\n",
              "      <th>Application order</th>\n",
              "      <th>Course</th>\n",
              "      <th>Daytime/evening attendance</th>\n",
              "      <th>Previous qualification</th>\n",
              "      <th>Nacionality</th>\n",
              "      <th>Mother's qualification</th>\n",
              "      <th>Father's qualification</th>\n",
              "      <th>Mother's occupation</th>\n",
              "      <th>...</th>\n",
              "      <th>Curricular units 2nd sem (credited)</th>\n",
              "      <th>Curricular units 2nd sem (enrolled)</th>\n",
              "      <th>Curricular units 2nd sem (evaluations)</th>\n",
              "      <th>Curricular units 2nd sem (approved)</th>\n",
              "      <th>Curricular units 2nd sem (grade)</th>\n",
              "      <th>Curricular units 2nd sem (without evaluations)</th>\n",
              "      <th>Unemployment rate</th>\n",
              "      <th>Inflation rate</th>\n",
              "      <th>GDP</th>\n",
              "      <th>Target</th>\n",
              "    </tr>\n",
              "  </thead>\n",
              "  <tbody>\n",
              "    <tr>\n",
              "      <th>0</th>\n",
              "      <td>1</td>\n",
              "      <td>8</td>\n",
              "      <td>5</td>\n",
              "      <td>2</td>\n",
              "      <td>1</td>\n",
              "      <td>1</td>\n",
              "      <td>1</td>\n",
              "      <td>13</td>\n",
              "      <td>10</td>\n",
              "      <td>6</td>\n",
              "      <td>...</td>\n",
              "      <td>0</td>\n",
              "      <td>0</td>\n",
              "      <td>0</td>\n",
              "      <td>0</td>\n",
              "      <td>0.000000</td>\n",
              "      <td>0</td>\n",
              "      <td>10.8</td>\n",
              "      <td>1.4</td>\n",
              "      <td>1.74</td>\n",
              "      <td>Dropout</td>\n",
              "    </tr>\n",
              "    <tr>\n",
              "      <th>1</th>\n",
              "      <td>1</td>\n",
              "      <td>6</td>\n",
              "      <td>1</td>\n",
              "      <td>11</td>\n",
              "      <td>1</td>\n",
              "      <td>1</td>\n",
              "      <td>1</td>\n",
              "      <td>1</td>\n",
              "      <td>3</td>\n",
              "      <td>4</td>\n",
              "      <td>...</td>\n",
              "      <td>0</td>\n",
              "      <td>6</td>\n",
              "      <td>6</td>\n",
              "      <td>6</td>\n",
              "      <td>13.666667</td>\n",
              "      <td>0</td>\n",
              "      <td>13.9</td>\n",
              "      <td>-0.3</td>\n",
              "      <td>0.79</td>\n",
              "      <td>Graduate</td>\n",
              "    </tr>\n",
              "    <tr>\n",
              "      <th>2</th>\n",
              "      <td>1</td>\n",
              "      <td>1</td>\n",
              "      <td>5</td>\n",
              "      <td>5</td>\n",
              "      <td>1</td>\n",
              "      <td>1</td>\n",
              "      <td>1</td>\n",
              "      <td>22</td>\n",
              "      <td>27</td>\n",
              "      <td>10</td>\n",
              "      <td>...</td>\n",
              "      <td>0</td>\n",
              "      <td>6</td>\n",
              "      <td>0</td>\n",
              "      <td>0</td>\n",
              "      <td>0.000000</td>\n",
              "      <td>0</td>\n",
              "      <td>10.8</td>\n",
              "      <td>1.4</td>\n",
              "      <td>1.74</td>\n",
              "      <td>Dropout</td>\n",
              "    </tr>\n",
              "    <tr>\n",
              "      <th>3</th>\n",
              "      <td>1</td>\n",
              "      <td>8</td>\n",
              "      <td>2</td>\n",
              "      <td>15</td>\n",
              "      <td>1</td>\n",
              "      <td>1</td>\n",
              "      <td>1</td>\n",
              "      <td>23</td>\n",
              "      <td>27</td>\n",
              "      <td>6</td>\n",
              "      <td>...</td>\n",
              "      <td>0</td>\n",
              "      <td>6</td>\n",
              "      <td>10</td>\n",
              "      <td>5</td>\n",
              "      <td>12.400000</td>\n",
              "      <td>0</td>\n",
              "      <td>9.4</td>\n",
              "      <td>-0.8</td>\n",
              "      <td>-3.12</td>\n",
              "      <td>Graduate</td>\n",
              "    </tr>\n",
              "    <tr>\n",
              "      <th>4</th>\n",
              "      <td>2</td>\n",
              "      <td>12</td>\n",
              "      <td>1</td>\n",
              "      <td>3</td>\n",
              "      <td>0</td>\n",
              "      <td>1</td>\n",
              "      <td>1</td>\n",
              "      <td>22</td>\n",
              "      <td>28</td>\n",
              "      <td>10</td>\n",
              "      <td>...</td>\n",
              "      <td>0</td>\n",
              "      <td>6</td>\n",
              "      <td>6</td>\n",
              "      <td>6</td>\n",
              "      <td>13.000000</td>\n",
              "      <td>0</td>\n",
              "      <td>13.9</td>\n",
              "      <td>-0.3</td>\n",
              "      <td>0.79</td>\n",
              "      <td>Graduate</td>\n",
              "    </tr>\n",
              "    <tr>\n",
              "      <th>...</th>\n",
              "      <td>...</td>\n",
              "      <td>...</td>\n",
              "      <td>...</td>\n",
              "      <td>...</td>\n",
              "      <td>...</td>\n",
              "      <td>...</td>\n",
              "      <td>...</td>\n",
              "      <td>...</td>\n",
              "      <td>...</td>\n",
              "      <td>...</td>\n",
              "      <td>...</td>\n",
              "      <td>...</td>\n",
              "      <td>...</td>\n",
              "      <td>...</td>\n",
              "      <td>...</td>\n",
              "      <td>...</td>\n",
              "      <td>...</td>\n",
              "      <td>...</td>\n",
              "      <td>...</td>\n",
              "      <td>...</td>\n",
              "      <td>...</td>\n",
              "    </tr>\n",
              "    <tr>\n",
              "      <th>4419</th>\n",
              "      <td>1</td>\n",
              "      <td>1</td>\n",
              "      <td>6</td>\n",
              "      <td>15</td>\n",
              "      <td>1</td>\n",
              "      <td>1</td>\n",
              "      <td>1</td>\n",
              "      <td>1</td>\n",
              "      <td>1</td>\n",
              "      <td>6</td>\n",
              "      <td>...</td>\n",
              "      <td>0</td>\n",
              "      <td>6</td>\n",
              "      <td>8</td>\n",
              "      <td>5</td>\n",
              "      <td>12.666667</td>\n",
              "      <td>0</td>\n",
              "      <td>15.5</td>\n",
              "      <td>2.8</td>\n",
              "      <td>-4.06</td>\n",
              "      <td>Graduate</td>\n",
              "    </tr>\n",
              "    <tr>\n",
              "      <th>4420</th>\n",
              "      <td>1</td>\n",
              "      <td>1</td>\n",
              "      <td>2</td>\n",
              "      <td>15</td>\n",
              "      <td>1</td>\n",
              "      <td>1</td>\n",
              "      <td>19</td>\n",
              "      <td>1</td>\n",
              "      <td>1</td>\n",
              "      <td>10</td>\n",
              "      <td>...</td>\n",
              "      <td>0</td>\n",
              "      <td>6</td>\n",
              "      <td>6</td>\n",
              "      <td>2</td>\n",
              "      <td>11.000000</td>\n",
              "      <td>0</td>\n",
              "      <td>11.1</td>\n",
              "      <td>0.6</td>\n",
              "      <td>2.02</td>\n",
              "      <td>Dropout</td>\n",
              "    </tr>\n",
              "    <tr>\n",
              "      <th>4421</th>\n",
              "      <td>1</td>\n",
              "      <td>1</td>\n",
              "      <td>1</td>\n",
              "      <td>12</td>\n",
              "      <td>1</td>\n",
              "      <td>1</td>\n",
              "      <td>1</td>\n",
              "      <td>22</td>\n",
              "      <td>27</td>\n",
              "      <td>10</td>\n",
              "      <td>...</td>\n",
              "      <td>0</td>\n",
              "      <td>8</td>\n",
              "      <td>9</td>\n",
              "      <td>1</td>\n",
              "      <td>13.500000</td>\n",
              "      <td>0</td>\n",
              "      <td>13.9</td>\n",
              "      <td>-0.3</td>\n",
              "      <td>0.79</td>\n",
              "      <td>Dropout</td>\n",
              "    </tr>\n",
              "    <tr>\n",
              "      <th>4422</th>\n",
              "      <td>1</td>\n",
              "      <td>1</td>\n",
              "      <td>1</td>\n",
              "      <td>9</td>\n",
              "      <td>1</td>\n",
              "      <td>1</td>\n",
              "      <td>1</td>\n",
              "      <td>22</td>\n",
              "      <td>27</td>\n",
              "      <td>8</td>\n",
              "      <td>...</td>\n",
              "      <td>0</td>\n",
              "      <td>5</td>\n",
              "      <td>6</td>\n",
              "      <td>5</td>\n",
              "      <td>12.000000</td>\n",
              "      <td>0</td>\n",
              "      <td>9.4</td>\n",
              "      <td>-0.8</td>\n",
              "      <td>-3.12</td>\n",
              "      <td>Graduate</td>\n",
              "    </tr>\n",
              "    <tr>\n",
              "      <th>4423</th>\n",
              "      <td>1</td>\n",
              "      <td>5</td>\n",
              "      <td>1</td>\n",
              "      <td>15</td>\n",
              "      <td>1</td>\n",
              "      <td>1</td>\n",
              "      <td>9</td>\n",
              "      <td>23</td>\n",
              "      <td>27</td>\n",
              "      <td>6</td>\n",
              "      <td>...</td>\n",
              "      <td>0</td>\n",
              "      <td>6</td>\n",
              "      <td>6</td>\n",
              "      <td>6</td>\n",
              "      <td>13.000000</td>\n",
              "      <td>0</td>\n",
              "      <td>12.7</td>\n",
              "      <td>3.7</td>\n",
              "      <td>-1.70</td>\n",
              "      <td>Graduate</td>\n",
              "    </tr>\n",
              "  </tbody>\n",
              "</table>\n",
              "<p>4424 rows × 35 columns</p>\n",
              "</div>\n",
              "      <button class=\"colab-df-convert\" onclick=\"convertToInteractive('df-2373c514-e27d-449e-9c8a-6a87eddd4256')\"\n",
              "              title=\"Convert this dataframe to an interactive table.\"\n",
              "              style=\"display:none;\">\n",
              "        \n",
              "  <svg xmlns=\"http://www.w3.org/2000/svg\" height=\"24px\"viewBox=\"0 0 24 24\"\n",
              "       width=\"24px\">\n",
              "    <path d=\"M0 0h24v24H0V0z\" fill=\"none\"/>\n",
              "    <path d=\"M18.56 5.44l.94 2.06.94-2.06 2.06-.94-2.06-.94-.94-2.06-.94 2.06-2.06.94zm-11 1L8.5 8.5l.94-2.06 2.06-.94-2.06-.94L8.5 2.5l-.94 2.06-2.06.94zm10 10l.94 2.06.94-2.06 2.06-.94-2.06-.94-.94-2.06-.94 2.06-2.06.94z\"/><path d=\"M17.41 7.96l-1.37-1.37c-.4-.4-.92-.59-1.43-.59-.52 0-1.04.2-1.43.59L10.3 9.45l-7.72 7.72c-.78.78-.78 2.05 0 2.83L4 21.41c.39.39.9.59 1.41.59.51 0 1.02-.2 1.41-.59l7.78-7.78 2.81-2.81c.8-.78.8-2.07 0-2.86zM5.41 20L4 18.59l7.72-7.72 1.47 1.35L5.41 20z\"/>\n",
              "  </svg>\n",
              "      </button>\n",
              "      \n",
              "  <style>\n",
              "    .colab-df-container {\n",
              "      display:flex;\n",
              "      flex-wrap:wrap;\n",
              "      gap: 12px;\n",
              "    }\n",
              "\n",
              "    .colab-df-convert {\n",
              "      background-color: #E8F0FE;\n",
              "      border: none;\n",
              "      border-radius: 50%;\n",
              "      cursor: pointer;\n",
              "      display: none;\n",
              "      fill: #1967D2;\n",
              "      height: 32px;\n",
              "      padding: 0 0 0 0;\n",
              "      width: 32px;\n",
              "    }\n",
              "\n",
              "    .colab-df-convert:hover {\n",
              "      background-color: #E2EBFA;\n",
              "      box-shadow: 0px 1px 2px rgba(60, 64, 67, 0.3), 0px 1px 3px 1px rgba(60, 64, 67, 0.15);\n",
              "      fill: #174EA6;\n",
              "    }\n",
              "\n",
              "    [theme=dark] .colab-df-convert {\n",
              "      background-color: #3B4455;\n",
              "      fill: #D2E3FC;\n",
              "    }\n",
              "\n",
              "    [theme=dark] .colab-df-convert:hover {\n",
              "      background-color: #434B5C;\n",
              "      box-shadow: 0px 1px 3px 1px rgba(0, 0, 0, 0.15);\n",
              "      filter: drop-shadow(0px 1px 2px rgba(0, 0, 0, 0.3));\n",
              "      fill: #FFFFFF;\n",
              "    }\n",
              "  </style>\n",
              "\n",
              "      <script>\n",
              "        const buttonEl =\n",
              "          document.querySelector('#df-2373c514-e27d-449e-9c8a-6a87eddd4256 button.colab-df-convert');\n",
              "        buttonEl.style.display =\n",
              "          google.colab.kernel.accessAllowed ? 'block' : 'none';\n",
              "\n",
              "        async function convertToInteractive(key) {\n",
              "          const element = document.querySelector('#df-2373c514-e27d-449e-9c8a-6a87eddd4256');\n",
              "          const dataTable =\n",
              "            await google.colab.kernel.invokeFunction('convertToInteractive',\n",
              "                                                     [key], {});\n",
              "          if (!dataTable) return;\n",
              "\n",
              "          const docLinkHtml = 'Like what you see? Visit the ' +\n",
              "            '<a target=\"_blank\" href=https://colab.research.google.com/notebooks/data_table.ipynb>data table notebook</a>'\n",
              "            + ' to learn more about interactive tables.';\n",
              "          element.innerHTML = '';\n",
              "          dataTable['output_type'] = 'display_data';\n",
              "          await google.colab.output.renderOutput(dataTable, element);\n",
              "          const docLink = document.createElement('div');\n",
              "          docLink.innerHTML = docLinkHtml;\n",
              "          element.appendChild(docLink);\n",
              "        }\n",
              "      </script>\n",
              "    </div>\n",
              "  </div>\n",
              "  "
            ]
          },
          "metadata": {},
          "execution_count": 553
        }
      ]
    },
    {
      "cell_type": "code",
      "source": [
        "specific_word = 'Enrolled'\n",
        "condition = np.logical_not(np.any(dataset == specific_word, axis=1))\n",
        "rows_removed = len(dataset) - np.sum(condition)\n",
        "filtered_dataset = dataset[condition]\n",
        "print(\"There are\",rows_removed, \"rows removed.\")\n",
        "filtered_dataset.head(4425)"
      ],
      "metadata": {
        "colab": {
          "base_uri": "https://localhost:8080/",
          "height": 557
        },
        "id": "DibJ8XzOlvAx",
        "outputId": "ac720679-fff1-460b-97d2-ce71e83d4fbd"
      },
      "execution_count": 554,
      "outputs": [
        {
          "output_type": "stream",
          "name": "stdout",
          "text": [
            "There are 794 rows removed.\n"
          ]
        },
        {
          "output_type": "execute_result",
          "data": {
            "text/plain": [
              "      Marital status  Application mode  Application order  Course  \\\n",
              "0                  1                 8                  5       2   \n",
              "1                  1                 6                  1      11   \n",
              "2                  1                 1                  5       5   \n",
              "3                  1                 8                  2      15   \n",
              "4                  2                12                  1       3   \n",
              "...              ...               ...                ...     ...   \n",
              "4419               1                 1                  6      15   \n",
              "4420               1                 1                  2      15   \n",
              "4421               1                 1                  1      12   \n",
              "4422               1                 1                  1       9   \n",
              "4423               1                 5                  1      15   \n",
              "\n",
              "      Daytime/evening attendance  Previous qualification  Nacionality  \\\n",
              "0                              1                       1            1   \n",
              "1                              1                       1            1   \n",
              "2                              1                       1            1   \n",
              "3                              1                       1            1   \n",
              "4                              0                       1            1   \n",
              "...                          ...                     ...          ...   \n",
              "4419                           1                       1            1   \n",
              "4420                           1                       1           19   \n",
              "4421                           1                       1            1   \n",
              "4422                           1                       1            1   \n",
              "4423                           1                       1            9   \n",
              "\n",
              "      Mother's qualification  Father's qualification  Mother's occupation  \\\n",
              "0                         13                      10                    6   \n",
              "1                          1                       3                    4   \n",
              "2                         22                      27                   10   \n",
              "3                         23                      27                    6   \n",
              "4                         22                      28                   10   \n",
              "...                      ...                     ...                  ...   \n",
              "4419                       1                       1                    6   \n",
              "4420                       1                       1                   10   \n",
              "4421                      22                      27                   10   \n",
              "4422                      22                      27                    8   \n",
              "4423                      23                      27                    6   \n",
              "\n",
              "      ...  Curricular units 2nd sem (credited)  \\\n",
              "0     ...                                    0   \n",
              "1     ...                                    0   \n",
              "2     ...                                    0   \n",
              "3     ...                                    0   \n",
              "4     ...                                    0   \n",
              "...   ...                                  ...   \n",
              "4419  ...                                    0   \n",
              "4420  ...                                    0   \n",
              "4421  ...                                    0   \n",
              "4422  ...                                    0   \n",
              "4423  ...                                    0   \n",
              "\n",
              "      Curricular units 2nd sem (enrolled)  \\\n",
              "0                                       0   \n",
              "1                                       6   \n",
              "2                                       6   \n",
              "3                                       6   \n",
              "4                                       6   \n",
              "...                                   ...   \n",
              "4419                                    6   \n",
              "4420                                    6   \n",
              "4421                                    8   \n",
              "4422                                    5   \n",
              "4423                                    6   \n",
              "\n",
              "      Curricular units 2nd sem (evaluations)  \\\n",
              "0                                          0   \n",
              "1                                          6   \n",
              "2                                          0   \n",
              "3                                         10   \n",
              "4                                          6   \n",
              "...                                      ...   \n",
              "4419                                       8   \n",
              "4420                                       6   \n",
              "4421                                       9   \n",
              "4422                                       6   \n",
              "4423                                       6   \n",
              "\n",
              "      Curricular units 2nd sem (approved)  Curricular units 2nd sem (grade)  \\\n",
              "0                                       0                          0.000000   \n",
              "1                                       6                         13.666667   \n",
              "2                                       0                          0.000000   \n",
              "3                                       5                         12.400000   \n",
              "4                                       6                         13.000000   \n",
              "...                                   ...                               ...   \n",
              "4419                                    5                         12.666667   \n",
              "4420                                    2                         11.000000   \n",
              "4421                                    1                         13.500000   \n",
              "4422                                    5                         12.000000   \n",
              "4423                                    6                         13.000000   \n",
              "\n",
              "      Curricular units 2nd sem (without evaluations)  Unemployment rate  \\\n",
              "0                                                  0               10.8   \n",
              "1                                                  0               13.9   \n",
              "2                                                  0               10.8   \n",
              "3                                                  0                9.4   \n",
              "4                                                  0               13.9   \n",
              "...                                              ...                ...   \n",
              "4419                                               0               15.5   \n",
              "4420                                               0               11.1   \n",
              "4421                                               0               13.9   \n",
              "4422                                               0                9.4   \n",
              "4423                                               0               12.7   \n",
              "\n",
              "      Inflation rate   GDP    Target  \n",
              "0                1.4  1.74   Dropout  \n",
              "1               -0.3  0.79  Graduate  \n",
              "2                1.4  1.74   Dropout  \n",
              "3               -0.8 -3.12  Graduate  \n",
              "4               -0.3  0.79  Graduate  \n",
              "...              ...   ...       ...  \n",
              "4419             2.8 -4.06  Graduate  \n",
              "4420             0.6  2.02   Dropout  \n",
              "4421            -0.3  0.79   Dropout  \n",
              "4422            -0.8 -3.12  Graduate  \n",
              "4423             3.7 -1.70  Graduate  \n",
              "\n",
              "[3630 rows x 35 columns]"
            ],
            "text/html": [
              "\n",
              "  <div id=\"df-076096e4-49ac-4073-9776-c6ae74ae4be7\">\n",
              "    <div class=\"colab-df-container\">\n",
              "      <div>\n",
              "<style scoped>\n",
              "    .dataframe tbody tr th:only-of-type {\n",
              "        vertical-align: middle;\n",
              "    }\n",
              "\n",
              "    .dataframe tbody tr th {\n",
              "        vertical-align: top;\n",
              "    }\n",
              "\n",
              "    .dataframe thead th {\n",
              "        text-align: right;\n",
              "    }\n",
              "</style>\n",
              "<table border=\"1\" class=\"dataframe\">\n",
              "  <thead>\n",
              "    <tr style=\"text-align: right;\">\n",
              "      <th></th>\n",
              "      <th>Marital status</th>\n",
              "      <th>Application mode</th>\n",
              "      <th>Application order</th>\n",
              "      <th>Course</th>\n",
              "      <th>Daytime/evening attendance</th>\n",
              "      <th>Previous qualification</th>\n",
              "      <th>Nacionality</th>\n",
              "      <th>Mother's qualification</th>\n",
              "      <th>Father's qualification</th>\n",
              "      <th>Mother's occupation</th>\n",
              "      <th>...</th>\n",
              "      <th>Curricular units 2nd sem (credited)</th>\n",
              "      <th>Curricular units 2nd sem (enrolled)</th>\n",
              "      <th>Curricular units 2nd sem (evaluations)</th>\n",
              "      <th>Curricular units 2nd sem (approved)</th>\n",
              "      <th>Curricular units 2nd sem (grade)</th>\n",
              "      <th>Curricular units 2nd sem (without evaluations)</th>\n",
              "      <th>Unemployment rate</th>\n",
              "      <th>Inflation rate</th>\n",
              "      <th>GDP</th>\n",
              "      <th>Target</th>\n",
              "    </tr>\n",
              "  </thead>\n",
              "  <tbody>\n",
              "    <tr>\n",
              "      <th>0</th>\n",
              "      <td>1</td>\n",
              "      <td>8</td>\n",
              "      <td>5</td>\n",
              "      <td>2</td>\n",
              "      <td>1</td>\n",
              "      <td>1</td>\n",
              "      <td>1</td>\n",
              "      <td>13</td>\n",
              "      <td>10</td>\n",
              "      <td>6</td>\n",
              "      <td>...</td>\n",
              "      <td>0</td>\n",
              "      <td>0</td>\n",
              "      <td>0</td>\n",
              "      <td>0</td>\n",
              "      <td>0.000000</td>\n",
              "      <td>0</td>\n",
              "      <td>10.8</td>\n",
              "      <td>1.4</td>\n",
              "      <td>1.74</td>\n",
              "      <td>Dropout</td>\n",
              "    </tr>\n",
              "    <tr>\n",
              "      <th>1</th>\n",
              "      <td>1</td>\n",
              "      <td>6</td>\n",
              "      <td>1</td>\n",
              "      <td>11</td>\n",
              "      <td>1</td>\n",
              "      <td>1</td>\n",
              "      <td>1</td>\n",
              "      <td>1</td>\n",
              "      <td>3</td>\n",
              "      <td>4</td>\n",
              "      <td>...</td>\n",
              "      <td>0</td>\n",
              "      <td>6</td>\n",
              "      <td>6</td>\n",
              "      <td>6</td>\n",
              "      <td>13.666667</td>\n",
              "      <td>0</td>\n",
              "      <td>13.9</td>\n",
              "      <td>-0.3</td>\n",
              "      <td>0.79</td>\n",
              "      <td>Graduate</td>\n",
              "    </tr>\n",
              "    <tr>\n",
              "      <th>2</th>\n",
              "      <td>1</td>\n",
              "      <td>1</td>\n",
              "      <td>5</td>\n",
              "      <td>5</td>\n",
              "      <td>1</td>\n",
              "      <td>1</td>\n",
              "      <td>1</td>\n",
              "      <td>22</td>\n",
              "      <td>27</td>\n",
              "      <td>10</td>\n",
              "      <td>...</td>\n",
              "      <td>0</td>\n",
              "      <td>6</td>\n",
              "      <td>0</td>\n",
              "      <td>0</td>\n",
              "      <td>0.000000</td>\n",
              "      <td>0</td>\n",
              "      <td>10.8</td>\n",
              "      <td>1.4</td>\n",
              "      <td>1.74</td>\n",
              "      <td>Dropout</td>\n",
              "    </tr>\n",
              "    <tr>\n",
              "      <th>3</th>\n",
              "      <td>1</td>\n",
              "      <td>8</td>\n",
              "      <td>2</td>\n",
              "      <td>15</td>\n",
              "      <td>1</td>\n",
              "      <td>1</td>\n",
              "      <td>1</td>\n",
              "      <td>23</td>\n",
              "      <td>27</td>\n",
              "      <td>6</td>\n",
              "      <td>...</td>\n",
              "      <td>0</td>\n",
              "      <td>6</td>\n",
              "      <td>10</td>\n",
              "      <td>5</td>\n",
              "      <td>12.400000</td>\n",
              "      <td>0</td>\n",
              "      <td>9.4</td>\n",
              "      <td>-0.8</td>\n",
              "      <td>-3.12</td>\n",
              "      <td>Graduate</td>\n",
              "    </tr>\n",
              "    <tr>\n",
              "      <th>4</th>\n",
              "      <td>2</td>\n",
              "      <td>12</td>\n",
              "      <td>1</td>\n",
              "      <td>3</td>\n",
              "      <td>0</td>\n",
              "      <td>1</td>\n",
              "      <td>1</td>\n",
              "      <td>22</td>\n",
              "      <td>28</td>\n",
              "      <td>10</td>\n",
              "      <td>...</td>\n",
              "      <td>0</td>\n",
              "      <td>6</td>\n",
              "      <td>6</td>\n",
              "      <td>6</td>\n",
              "      <td>13.000000</td>\n",
              "      <td>0</td>\n",
              "      <td>13.9</td>\n",
              "      <td>-0.3</td>\n",
              "      <td>0.79</td>\n",
              "      <td>Graduate</td>\n",
              "    </tr>\n",
              "    <tr>\n",
              "      <th>...</th>\n",
              "      <td>...</td>\n",
              "      <td>...</td>\n",
              "      <td>...</td>\n",
              "      <td>...</td>\n",
              "      <td>...</td>\n",
              "      <td>...</td>\n",
              "      <td>...</td>\n",
              "      <td>...</td>\n",
              "      <td>...</td>\n",
              "      <td>...</td>\n",
              "      <td>...</td>\n",
              "      <td>...</td>\n",
              "      <td>...</td>\n",
              "      <td>...</td>\n",
              "      <td>...</td>\n",
              "      <td>...</td>\n",
              "      <td>...</td>\n",
              "      <td>...</td>\n",
              "      <td>...</td>\n",
              "      <td>...</td>\n",
              "      <td>...</td>\n",
              "    </tr>\n",
              "    <tr>\n",
              "      <th>4419</th>\n",
              "      <td>1</td>\n",
              "      <td>1</td>\n",
              "      <td>6</td>\n",
              "      <td>15</td>\n",
              "      <td>1</td>\n",
              "      <td>1</td>\n",
              "      <td>1</td>\n",
              "      <td>1</td>\n",
              "      <td>1</td>\n",
              "      <td>6</td>\n",
              "      <td>...</td>\n",
              "      <td>0</td>\n",
              "      <td>6</td>\n",
              "      <td>8</td>\n",
              "      <td>5</td>\n",
              "      <td>12.666667</td>\n",
              "      <td>0</td>\n",
              "      <td>15.5</td>\n",
              "      <td>2.8</td>\n",
              "      <td>-4.06</td>\n",
              "      <td>Graduate</td>\n",
              "    </tr>\n",
              "    <tr>\n",
              "      <th>4420</th>\n",
              "      <td>1</td>\n",
              "      <td>1</td>\n",
              "      <td>2</td>\n",
              "      <td>15</td>\n",
              "      <td>1</td>\n",
              "      <td>1</td>\n",
              "      <td>19</td>\n",
              "      <td>1</td>\n",
              "      <td>1</td>\n",
              "      <td>10</td>\n",
              "      <td>...</td>\n",
              "      <td>0</td>\n",
              "      <td>6</td>\n",
              "      <td>6</td>\n",
              "      <td>2</td>\n",
              "      <td>11.000000</td>\n",
              "      <td>0</td>\n",
              "      <td>11.1</td>\n",
              "      <td>0.6</td>\n",
              "      <td>2.02</td>\n",
              "      <td>Dropout</td>\n",
              "    </tr>\n",
              "    <tr>\n",
              "      <th>4421</th>\n",
              "      <td>1</td>\n",
              "      <td>1</td>\n",
              "      <td>1</td>\n",
              "      <td>12</td>\n",
              "      <td>1</td>\n",
              "      <td>1</td>\n",
              "      <td>1</td>\n",
              "      <td>22</td>\n",
              "      <td>27</td>\n",
              "      <td>10</td>\n",
              "      <td>...</td>\n",
              "      <td>0</td>\n",
              "      <td>8</td>\n",
              "      <td>9</td>\n",
              "      <td>1</td>\n",
              "      <td>13.500000</td>\n",
              "      <td>0</td>\n",
              "      <td>13.9</td>\n",
              "      <td>-0.3</td>\n",
              "      <td>0.79</td>\n",
              "      <td>Dropout</td>\n",
              "    </tr>\n",
              "    <tr>\n",
              "      <th>4422</th>\n",
              "      <td>1</td>\n",
              "      <td>1</td>\n",
              "      <td>1</td>\n",
              "      <td>9</td>\n",
              "      <td>1</td>\n",
              "      <td>1</td>\n",
              "      <td>1</td>\n",
              "      <td>22</td>\n",
              "      <td>27</td>\n",
              "      <td>8</td>\n",
              "      <td>...</td>\n",
              "      <td>0</td>\n",
              "      <td>5</td>\n",
              "      <td>6</td>\n",
              "      <td>5</td>\n",
              "      <td>12.000000</td>\n",
              "      <td>0</td>\n",
              "      <td>9.4</td>\n",
              "      <td>-0.8</td>\n",
              "      <td>-3.12</td>\n",
              "      <td>Graduate</td>\n",
              "    </tr>\n",
              "    <tr>\n",
              "      <th>4423</th>\n",
              "      <td>1</td>\n",
              "      <td>5</td>\n",
              "      <td>1</td>\n",
              "      <td>15</td>\n",
              "      <td>1</td>\n",
              "      <td>1</td>\n",
              "      <td>9</td>\n",
              "      <td>23</td>\n",
              "      <td>27</td>\n",
              "      <td>6</td>\n",
              "      <td>...</td>\n",
              "      <td>0</td>\n",
              "      <td>6</td>\n",
              "      <td>6</td>\n",
              "      <td>6</td>\n",
              "      <td>13.000000</td>\n",
              "      <td>0</td>\n",
              "      <td>12.7</td>\n",
              "      <td>3.7</td>\n",
              "      <td>-1.70</td>\n",
              "      <td>Graduate</td>\n",
              "    </tr>\n",
              "  </tbody>\n",
              "</table>\n",
              "<p>3630 rows × 35 columns</p>\n",
              "</div>\n",
              "      <button class=\"colab-df-convert\" onclick=\"convertToInteractive('df-076096e4-49ac-4073-9776-c6ae74ae4be7')\"\n",
              "              title=\"Convert this dataframe to an interactive table.\"\n",
              "              style=\"display:none;\">\n",
              "        \n",
              "  <svg xmlns=\"http://www.w3.org/2000/svg\" height=\"24px\"viewBox=\"0 0 24 24\"\n",
              "       width=\"24px\">\n",
              "    <path d=\"M0 0h24v24H0V0z\" fill=\"none\"/>\n",
              "    <path d=\"M18.56 5.44l.94 2.06.94-2.06 2.06-.94-2.06-.94-.94-2.06-.94 2.06-2.06.94zm-11 1L8.5 8.5l.94-2.06 2.06-.94-2.06-.94L8.5 2.5l-.94 2.06-2.06.94zm10 10l.94 2.06.94-2.06 2.06-.94-2.06-.94-.94-2.06-.94 2.06-2.06.94z\"/><path d=\"M17.41 7.96l-1.37-1.37c-.4-.4-.92-.59-1.43-.59-.52 0-1.04.2-1.43.59L10.3 9.45l-7.72 7.72c-.78.78-.78 2.05 0 2.83L4 21.41c.39.39.9.59 1.41.59.51 0 1.02-.2 1.41-.59l7.78-7.78 2.81-2.81c.8-.78.8-2.07 0-2.86zM5.41 20L4 18.59l7.72-7.72 1.47 1.35L5.41 20z\"/>\n",
              "  </svg>\n",
              "      </button>\n",
              "      \n",
              "  <style>\n",
              "    .colab-df-container {\n",
              "      display:flex;\n",
              "      flex-wrap:wrap;\n",
              "      gap: 12px;\n",
              "    }\n",
              "\n",
              "    .colab-df-convert {\n",
              "      background-color: #E8F0FE;\n",
              "      border: none;\n",
              "      border-radius: 50%;\n",
              "      cursor: pointer;\n",
              "      display: none;\n",
              "      fill: #1967D2;\n",
              "      height: 32px;\n",
              "      padding: 0 0 0 0;\n",
              "      width: 32px;\n",
              "    }\n",
              "\n",
              "    .colab-df-convert:hover {\n",
              "      background-color: #E2EBFA;\n",
              "      box-shadow: 0px 1px 2px rgba(60, 64, 67, 0.3), 0px 1px 3px 1px rgba(60, 64, 67, 0.15);\n",
              "      fill: #174EA6;\n",
              "    }\n",
              "\n",
              "    [theme=dark] .colab-df-convert {\n",
              "      background-color: #3B4455;\n",
              "      fill: #D2E3FC;\n",
              "    }\n",
              "\n",
              "    [theme=dark] .colab-df-convert:hover {\n",
              "      background-color: #434B5C;\n",
              "      box-shadow: 0px 1px 3px 1px rgba(0, 0, 0, 0.15);\n",
              "      filter: drop-shadow(0px 1px 2px rgba(0, 0, 0, 0.3));\n",
              "      fill: #FFFFFF;\n",
              "    }\n",
              "  </style>\n",
              "\n",
              "      <script>\n",
              "        const buttonEl =\n",
              "          document.querySelector('#df-076096e4-49ac-4073-9776-c6ae74ae4be7 button.colab-df-convert');\n",
              "        buttonEl.style.display =\n",
              "          google.colab.kernel.accessAllowed ? 'block' : 'none';\n",
              "\n",
              "        async function convertToInteractive(key) {\n",
              "          const element = document.querySelector('#df-076096e4-49ac-4073-9776-c6ae74ae4be7');\n",
              "          const dataTable =\n",
              "            await google.colab.kernel.invokeFunction('convertToInteractive',\n",
              "                                                     [key], {});\n",
              "          if (!dataTable) return;\n",
              "\n",
              "          const docLinkHtml = 'Like what you see? Visit the ' +\n",
              "            '<a target=\"_blank\" href=https://colab.research.google.com/notebooks/data_table.ipynb>data table notebook</a>'\n",
              "            + ' to learn more about interactive tables.';\n",
              "          element.innerHTML = '';\n",
              "          dataTable['output_type'] = 'display_data';\n",
              "          await google.colab.output.renderOutput(dataTable, element);\n",
              "          const docLink = document.createElement('div');\n",
              "          docLink.innerHTML = docLinkHtml;\n",
              "          element.appendChild(docLink);\n",
              "        }\n",
              "      </script>\n",
              "    </div>\n",
              "  </div>\n",
              "  "
            ]
          },
          "metadata": {},
          "execution_count": 554
        }
      ]
    },
    {
      "cell_type": "code",
      "source": [
        "y = filtered_dataset['Target']\n",
        "del filtered_dataset['Target']\n",
        "X = filtered_dataset.values"
      ],
      "metadata": {
        "id": "O4N_tkMBLc5z"
      },
      "execution_count": 555,
      "outputs": []
    },
    {
      "cell_type": "markdown",
      "source": [
        "K means clustering"
      ],
      "metadata": {
        "id": "Y5SDoH3WGYsC"
      }
    },
    {
      "cell_type": "code",
      "source": [
        "kmeans = KMeans(n_clusters=3, n_init='auto')\n",
        "kmeans.fit(X)\n",
        "cluster_labels = kmeans.labels_"
      ],
      "metadata": {
        "id": "mkaKoHD1Aqm_"
      },
      "execution_count": 556,
      "outputs": []
    },
    {
      "cell_type": "markdown",
      "source": [
        "Train dataset"
      ],
      "metadata": {
        "id": "h3pLhWNvGmFK"
      }
    },
    {
      "cell_type": "code",
      "source": [
        "X_train, X_test, y_train, y_test, train_labels, test_labels = train_test_split(\n",
        "    X, y, cluster_labels, test_size=0.2, random_state=42\n",
        ")\n",
        "k = 20\n",
        "kfold = KFold(n_splits=k, shuffle=True, random_state=42)"
      ],
      "metadata": {
        "id": "F7Of3xymArxn"
      },
      "execution_count": 557,
      "outputs": []
    },
    {
      "cell_type": "markdown",
      "source": [
        "Finding the optimal n for KNN"
      ],
      "metadata": {
        "id": "OQGkz4ZbOO1j"
      }
    },
    {
      "cell_type": "code",
      "source": [
        "error_rate = []\n",
        "for i in range(1,40):\n",
        " knn = KNeighborsClassifier(n_neighbors=i)\n",
        " knn.fit(X_train,y_train)\n",
        " pred_i = knn.predict(X_test)\n",
        " error_rate.append(np.mean(pred_i != y_test))\n",
        "\n",
        "plt.figure(figsize=(10,6))\n",
        "plt.plot(range(1,40),error_rate,color='blue', linestyle='dashed',\n",
        "         marker='o',markerfacecolor='red', markersize=10)\n",
        "plt.title('Error Rate vs. K Value')\n",
        "plt.xlabel('K')\n",
        "plt.ylabel('Error Rate')\n",
        "print(\"Minimum error:-\",min(error_rate),\"at K =\",error_rate.index(min(error_rate)))"
      ],
      "metadata": {
        "id": "_bxdFnXmON2L",
        "colab": {
          "base_uri": "https://localhost:8080/",
          "height": 581
        },
        "outputId": "949b4a62-6326-48d3-8245-229fbeef850f"
      },
      "execution_count": 558,
      "outputs": [
        {
          "output_type": "stream",
          "name": "stdout",
          "text": [
            "Minimum error:- 0.17355371900826447 at K = 6\n"
          ]
        },
        {
          "output_type": "display_data",
          "data": {
            "text/plain": [
              "<Figure size 1000x600 with 1 Axes>"
            ],
            "image/png": "[encoded data removed]"
          },
          "metadata": {}
        }
      ]
    },
    {
      "cell_type": "markdown",
      "source": [
        "# Models"
      ],
      "metadata": {
        "id": "ByT9AWhWGqI6"
      }
    },
    {
      "cell_type": "code",
      "source": [
        "knn = KNeighborsClassifier(n_neighbors=6)\n",
        "dnn = MLPClassifier(activation= 'relu',alpha= 0.004558327528535912, solver = 'adam', hidden_layer_sizes=(50, 50),learning_rate_init=0.04692488919658672)\n",
        "voting_classifier = VotingClassifier(estimators=[('knn', knn), ('dnn', dnn)],voting='hard')"
      ],
      "metadata": {
        "id": "a-378TYQAySv"
      },
      "execution_count": 559,
      "outputs": []
    },
    {
      "cell_type": "markdown",
      "source": [
        "# Train Model"
      ],
      "metadata": {
        "id": "RL6JNmAjGsgK"
      }
    },
    {
      "cell_type": "code",
      "source": [
        "knnt0 = time.time()\n",
        "knn.fit(X_train, y_train)\n",
        "knnt1 = time.time()\n",
        "print(\"KNN training took {:.3f}s\".format(knnt1 - knnt0))\n",
        "\n",
        "\n",
        "dnnt0 = time.time()\n",
        "dnn.fit(X_train, y_train)\n",
        "dnnt1 = time.time()\n",
        "print(\"DNN training took {:.3f}s\".format(dnnt1 - dnnt0))\n",
        "\n",
        "\n",
        "\n",
        "hvt0 = time.time()\n",
        "voting_classifier.fit(X_train, y_train)\n",
        "hvt1 = time.time()\n",
        "print(\"Hard Voting Ensemble training took {:.3f}s\".format(hvt1 - hvt0))\n",
        "\n"
      ],
      "metadata": {
        "id": "sWScHwliAwCh",
        "colab": {
          "base_uri": "https://localhost:8080/"
        },
        "outputId": "b8797767-93c2-49ba-ec5b-a1a6d398e287"
      },
      "execution_count": 560,
      "outputs": [
        {
          "output_type": "stream",
          "name": "stdout",
          "text": [
            "KNN training took 0.006s\n",
            "DNN training took 0.956s\n",
            "Hard Voting Ensemble training took 1.344s\n"
          ]
        }
      ]
    },
    {
      "cell_type": "markdown",
      "source": [
        "# Prediction"
      ],
      "metadata": {
        "id": "T8tr7i-UFv_L"
      }
    },
    {
      "cell_type": "code",
      "source": [
        "knnpt0 = time.time()\n",
        "y_pred_KNN = knn.predict(X_test)\n",
        "knnpt1 = time.time()\n",
        "\n",
        "\n",
        "dnnpt0 = time.time()\n",
        "y_pred_DNN = dnn.predict(X_test)\n",
        "dnnpt1 = time.time()\n",
        "\n",
        "\n",
        "hvpt0 = time.time()\n",
        "y_pred_HV = voting_classifier.predict(X_test)\n",
        "hvpt1 = time.time()\n"
      ],
      "metadata": {
        "id": "To4xuj5JFwUq"
      },
      "execution_count": 561,
      "outputs": []
    },
    {
      "cell_type": "markdown",
      "source": [
        "# Evaluation"
      ],
      "metadata": {
        "id": "5U2HsqsYnRAg"
      }
    },
    {
      "cell_type": "markdown",
      "source": [
        "1. Accuracy"
      ],
      "metadata": {
        "id": "rEtaxkGXHDZ6"
      }
    },
    {
      "cell_type": "code",
      "source": [
        "knn_accuracy = accuracy_score(y_test, y_pred_KNN)\n",
        "dnn_accuracy = accuracy_score(y_test, y_pred_DNN)\n",
        "ensemble_accuracy = accuracy_score(y_test, y_pred_HV)"
      ],
      "metadata": {
        "id": "kRIQalvwA4tv"
      },
      "execution_count": 562,
      "outputs": []
    },
    {
      "cell_type": "markdown",
      "source": [
        "2. Precision"
      ],
      "metadata": {
        "id": "70aMoLcQ9GhS"
      }
    },
    {
      "cell_type": "code",
      "source": [
        "knn_precision = precision_score(y_test, y_pred_KNN, average='weighted')\n",
        "dnn_precision = precision_score(y_test, y_pred_DNN, average='weighted')\n",
        "ensemble_precision = precision_score(y_test, y_pred_HV, average='weighted')"
      ],
      "metadata": {
        "id": "8elJOuAEmOJo"
      },
      "execution_count": 563,
      "outputs": []
    },
    {
      "cell_type": "markdown",
      "source": [
        "3. Recall"
      ],
      "metadata": {
        "id": "ENJAyInX9H_h"
      }
    },
    {
      "cell_type": "code",
      "source": [
        "knn_recall = recall_score(y_test, y_pred_KNN, average='weighted')\n",
        "dnn_recall = recall_score(y_test, y_pred_DNN, average='weighted')\n",
        "ensemble_recall = recall_score(y_test, y_pred_HV, average='weighted')"
      ],
      "metadata": {
        "id": "FpurnithydZI"
      },
      "execution_count": 564,
      "outputs": []
    },
    {
      "cell_type": "markdown",
      "source": [
        "4. F1-score"
      ],
      "metadata": {
        "id": "zE-6JfOQ9JUC"
      }
    },
    {
      "cell_type": "code",
      "source": [
        "knn_f1 = f1_score(y_test, y_pred_KNN, average='weighted')\n",
        "dnn_f1 = f1_score(y_test, y_pred_DNN, average='weighted')\n",
        "ensemble_f1 = f1_score(y_test, y_pred_HV, average='weighted')"
      ],
      "metadata": {
        "id": "8jJwcfRY1mOJ"
      },
      "execution_count": 565,
      "outputs": []
    },
    {
      "cell_type": "markdown",
      "source": [
        "5. Space Consumption"
      ],
      "metadata": {
        "id": "VSky3IByM7ZJ"
      }
    },
    {
      "cell_type": "code",
      "source": [
        "knnspace = get_space_consumption(y_pred_KNN)\n",
        "dnnspace = get_space_consumption(y_pred_DNN)\n",
        "hvspace = get_space_consumption(y_pred_HV)"
      ],
      "metadata": {
        "id": "M29iQjxGM6YH"
      },
      "execution_count": 566,
      "outputs": []
    },
    {
      "cell_type": "markdown",
      "source": [
        "# Results"
      ],
      "metadata": {
        "id": "CKqcoCCjHMMi"
      }
    },
    {
      "cell_type": "markdown",
      "source": [
        "Space Consumption"
      ],
      "metadata": {
        "id": "T1O48USEM07w"
      }
    },
    {
      "cell_type": "code",
      "source": [
        "print(\"KNN Prediction Space Consumption:\",round(knnspace,3),\"KB\")\n",
        "print()\n",
        "print(\"DNN Prediction Space Consumption:\",round(dnnspace,3),\"KB\")\n",
        "print()\n",
        "print(\"Hard Voting Ensemble Prediction Space Consumption:\",round(hvspace,3),\"KB\")"
      ],
      "metadata": {
        "id": "VLNitFryK3TS",
        "colab": {
          "base_uri": "https://localhost:8080/"
        },
        "outputId": "dfff8ea7-dbeb-4dbc-8632-2baaeb73b689"
      },
      "execution_count": 567,
      "outputs": [
        {
          "output_type": "stream",
          "name": "stdout",
          "text": [
            "KNN Prediction Space Consumption: 192.406 KB\n",
            "\n",
            "DNN Prediction Space Consumption: 215.094 KB\n",
            "\n",
            "Hard Voting Ensemble Prediction Space Consumption: 198.078 KB\n"
          ]
        }
      ]
    },
    {
      "cell_type": "markdown",
      "source": [
        "Prediction Time"
      ],
      "metadata": {
        "id": "VFK4qkJ78jbh"
      }
    },
    {
      "cell_type": "code",
      "source": [
        "print(\"KNN Prediction took {:.2f}s\".format(knnpt1 - knnpt0))\n",
        "knntime = knnpt1 - knnpt0\n",
        "print()\n",
        "dnntime = print(\"DNN Prediction took {:.2f}s\".format(dnnpt1 - dnnpt0))\n",
        "dnntime = dnnpt1 - dnnpt0\n",
        "print()\n",
        "hvtime = print(\"Hard Voting Ensemble Prediction took {:.2f}s\".format(hvpt1 - hvpt0))\n",
        "hvtime = hvpt1 - hvpt0"
      ],
      "metadata": {
        "id": "ETkIaN6j8lxJ",
        "colab": {
          "base_uri": "https://localhost:8080/"
        },
        "outputId": "a17e1d8f-0add-4af8-ad04-6c40dd0722a1"
      },
      "execution_count": 568,
      "outputs": [
        {
          "output_type": "stream",
          "name": "stdout",
          "text": [
            "KNN Prediction took 0.04s\n",
            "\n",
            "DNN Prediction took 0.00s\n",
            "\n",
            "Hard Voting Ensemble Prediction took 0.05s\n"
          ]
        }
      ]
    },
    {
      "cell_type": "markdown",
      "source": [
        "Accuracy Score"
      ],
      "metadata": {
        "id": "tHCRyvQ18HHx"
      }
    },
    {
      "cell_type": "code",
      "source": [
        "print(\"KNN Accuracy Score:\", knn_accuracy)\n",
        "print()\n",
        "print(\"DNN Accuracy Score:\", dnn_accuracy)\n",
        "print()\n",
        "print(\"Hard Voting Ensemble Accuracy Score:\", ensemble_accuracy)\n",
        "print()"
      ],
      "metadata": {
        "id": "meXDPUHpA7lf",
        "colab": {
          "base_uri": "https://localhost:8080/"
        },
        "outputId": "294f3be2-de4e-4f7b-fd1d-672a88341c42"
      },
      "execution_count": 569,
      "outputs": [
        {
          "output_type": "stream",
          "name": "stdout",
          "text": [
            "KNN Accuracy Score: 0.8250688705234159\n",
            "\n",
            "DNN Accuracy Score: 0.9118457300275482\n",
            "\n",
            "Hard Voting Ensemble Accuracy Score: 0.8732782369146006\n",
            "\n"
          ]
        }
      ]
    },
    {
      "cell_type": "markdown",
      "source": [
        "Precision Score"
      ],
      "metadata": {
        "id": "wS23L9jJ8I7Z"
      }
    },
    {
      "cell_type": "code",
      "source": [
        "print(\"KNN Precision Score:\", knn_precision)\n",
        "print()\n",
        "print(\"DNN Precision Score:\", dnn_precision)\n",
        "print()\n",
        "print(\"Hard Voting Ensemble Precision Score:\", ensemble_precision)"
      ],
      "metadata": {
        "id": "RyyEhpY4NOe7",
        "colab": {
          "base_uri": "https://localhost:8080/"
        },
        "outputId": "cf429bb3-f67f-4d70-f275-6475e0b0eb63"
      },
      "execution_count": 570,
      "outputs": [
        {
          "output_type": "stream",
          "name": "stdout",
          "text": [
            "KNN Precision Score: 0.825165342382128\n",
            "\n",
            "DNN Precision Score: 0.9164172222023461\n",
            "\n",
            "Hard Voting Ensemble Precision Score: 0.8761607742323996\n"
          ]
        }
      ]
    },
    {
      "cell_type": "markdown",
      "source": [
        "Recall Score"
      ],
      "metadata": {
        "id": "nd8-DD0M97YB"
      }
    },
    {
      "cell_type": "code",
      "source": [
        "print(\"KNN Recall Score:\", knn_recall)\n",
        "print()\n",
        "print(\"DNN Recall Score:\", dnn_recall)\n",
        "print()\n",
        "print(\"Hard Voting Ensemble Recall Score:\", ensemble_recall)"
      ],
      "metadata": {
        "id": "IKCpcqHx95U2",
        "colab": {
          "base_uri": "https://localhost:8080/"
        },
        "outputId": "acd02595-3940-4624-82ed-b7711514ba6a"
      },
      "execution_count": 571,
      "outputs": [
        {
          "output_type": "stream",
          "name": "stdout",
          "text": [
            "KNN Recall Score: 0.8250688705234159\n",
            "\n",
            "DNN Recall Score: 0.9118457300275482\n",
            "\n",
            "Hard Voting Ensemble Recall Score: 0.8732782369146006\n"
          ]
        }
      ]
    },
    {
      "cell_type": "markdown",
      "source": [
        "F1 - Score"
      ],
      "metadata": {
        "id": "rzr2SWMS-Gax"
      }
    },
    {
      "cell_type": "code",
      "source": [
        "print(\"KNN F1 Score:\", knn_f1)\n",
        "print()\n",
        "print(\"DNN F1 Score:\", dnn_f1)\n",
        "print()\n",
        "print(\"Hard Voting Ensemble F1 Score:\", ensemble_f1)"
      ],
      "metadata": {
        "id": "EhC5DWH4964h",
        "colab": {
          "base_uri": "https://localhost:8080/"
        },
        "outputId": "e25b44c4-d446-4f68-e482-14f7d0e278e3"
      },
      "execution_count": 572,
      "outputs": [
        {
          "output_type": "stream",
          "name": "stdout",
          "text": [
            "KNN F1 Score: 0.8213107621033029\n",
            "\n",
            "DNN F1 Score: 0.91000231988791\n",
            "\n",
            "Hard Voting Ensemble F1 Score: 0.874042632872669\n"
          ]
        }
      ]
    },
    {
      "cell_type": "markdown",
      "source": [
        "# Final Result"
      ],
      "metadata": {
        "id": "suWT7EoRGMBR"
      }
    },
    {
      "cell_type": "code",
      "source": [
        "def create_table(data, headers):\n",
        "    fig, ax = plt.subplots()\n",
        "\n",
        "    table = ax.table(cellText=data, colLabels=headers, cellLoc=\"center\", loc=\"center\", colWidths=[0.2]*len(headers))\n",
        "    table.auto_set_font_size(True)\n",
        "    table.set_fontsize(14)\n",
        "    table.scale(1.2, 1.2)\n",
        "\n",
        "    ax.axis(\"off\")\n",
        "    fig.tight_layout()\n",
        "    plt.show()\n",
        "\n",
        "\n",
        "table_data = [\n",
        "    [\"KNN\", round(knn_accuracy,3), round(knn_precision,3), round(knn_recall,3), round(knn_f1,3), round(knnspace,2), round(knntime,2)],\n",
        "    [\"DNN\", round(dnn_accuracy,3), round(dnn_precision,3), round(dnn_recall,3), round(dnn_f1,3), round(dnnspace,2), round(dnntime,3)],\n",
        "    [\"HV\", round(ensemble_accuracy,3), round(ensemble_precision,3), round(ensemble_recall,3), round(ensemble_f1,3), round(hvspace,2), round(hvtime,3)],\n",
        "]\n",
        "\n",
        "table_headers = [\"Models\", \"Accuracy\", \"Precision\", 'Recall', 'F1 Score','Space','Time']\n",
        "\n",
        "create_table(table_data, table_headers)"
      ],
      "metadata": {
        "id": "y4TByTghGONZ",
        "colab": {
          "base_uri": "https://localhost:8080/",
          "height": 487
        },
        "outputId": "961f11e2-4230-4925-e41c-26a05de72c93"
      },
      "execution_count": 573,
      "outputs": [
        {
          "output_type": "display_data",
          "data": {
            "text/plain": [
              "<Figure size 640x480 with 1 Axes>"
            ],
            "image/png": "[encoded data removed]"
          },
          "metadata": {}
        }
      ]
    }
  ]
}